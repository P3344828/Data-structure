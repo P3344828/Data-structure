{
  "nbformat": 4,
  "nbformat_minor": 0,
  "metadata": {
    "colab": {
      "provenance": []
    },
    "kernelspec": {
      "name": "python3",
      "display_name": "Python 3"
    },
    "language_info": {
      "name": "python"
    }
  },
  "cells": [
    {
      "cell_type": "markdown",
      "source": [
        "**Data Types and Structures Questions**\n",
        "1. What are data structures, and why are they important?\n",
        "- Data structure is way of organizing, managing, and storing data, so that it can be accessed and modified efficiently. Like as list, string, set, and so on.\n",
        "\n",
        "- They are important because they make things faster and easier to manage,solve complex problems and writing clean code.\n",
        "\n",
        "2. Explain the difference between mutable and immutable data types with examples.\n",
        "- Mutable data types can be change, add or remove elements without creating a new object. Lists, sets, dictionaries are mutable.\n",
        "\n",
        "- Immutable data types can not be changed once they are created. Any modification creates a new object. Examples: Strings, tuples are immutable.\n",
        "\n",
        "\n",
        "3. What are the main differences between lists and tuples in Python?\n",
        "- Lists are mutable, more flexible, defined using square brackets[], more built-in methods, store heterogenous data, and ordered collection of elements.\n",
        "\n",
        "- Tuples are immutable, faster, defined using parentheses(), fewer methods, store heterogenous data, and unordered collection of elements.\n",
        "\n",
        "4. Describe how dictionaries store data.\n",
        "- Dictionaries store data as key-value pairs. Keys are unique and immutable.\n",
        "\n",
        "- Dictionaries are unordered, but from Python 3.7 version, it maintains insertion order. You can access, change, or delete values by referencing their keys, not by position.\n",
        "\n",
        "5. Why might you use a set instead of a list in Python?\n",
        "- A set is used instead of list in Python because the uniqueness of elements is needed and to perform faster membership testing. Also use mathematical set operations like union, and intersection.\n",
        "\n",
        "\n",
        "6. What is a string in Python, and how is it different from a list?\n",
        "- A string is a sequence of characters enclosed within double and single quotes. It represent and manipulate textual data.\n",
        "\n",
        "- Strings can only store text, but lists can store any type of data. you can't change characters in string directly, but list are mutable. strings are maimly used to handling only text, but lists are used for general purpose data storage.\n",
        "\n",
        "7. How do tuples ensure data integrity in Python?\n",
        "- Tuples ensure data integrity by representing immutable which preventing changes in after creation. This ensures that stored data is fixed or consistent and using as keys in dictionaries.\n",
        "\n",
        "\n",
        "8. What is hash table, and how does it relate to dictionaries in Python?\n",
        "- A hash table is a data structure that maps keys to values using a hash function to determine where to store each pair.This allows for efficient data access, typically in constant time.\n",
        "\n",
        "- In Python, dictionary(dict) is implemented using a hash table. Each key is hashed to determine the storage location of its associated value.\n",
        "\n",
        "9. Can lists contain different data types in Python?\n",
        "- Yes, lists can contain elements of different data types within the same list. For example, list can contain integers, floats, strings and other.\n",
        "\n",
        "10. Explain why strings are immutable in Python.\n",
        "- Strings are immutable to maintain data integrity, security and safe sharing across program in Python. Improving performance and enabling optimizations like caching and hashing.\n",
        "\n",
        "11. What advantages do dictionaries offer over lists for certain tasks?\n",
        "- Dictionaries provide faster lookups using unique keys, in constant time.\n",
        "\n",
        "- They allow more readable access through descriptive keys instead of index-based access.\n",
        "\n",
        "- Duplicates keys are not allowed, ensuring unique data entries.\n",
        "\n",
        "- They are well-suited for organizing structured, key-value data.\n",
        "\n",
        "12. Describe a scenario where using a tuple would be preferable over a list.\n",
        "- A tuple is preferred when storing fixed data that should be modified. For example, geographic coordinates (latitude, longitude) are best stored in a tuple. This ensures immutability and maintains the data integrity.\n",
        "\n",
        "13. How do sets handle duplicate values in Python?\n",
        "- Sets automatically discard duplicate values, storing only unique elements. When duplicates are added, they are ignored without raising an error.\n",
        "\n",
        "14. How does the \"in\" keyword work differently for lists and dictionaries?\n",
        "- In lists, the \"in\" keyword checks whether a specified value exists within the list elements.\n",
        "\n",
        "- On the other hand, in dictionaries the \"in\" keyword checks whether a specified key is present in the dictionay's keys , but not value.\n",
        "\n",
        "15. Can you modify the elements of a tuple? Explain why or why not.\n",
        "- No, you can not modify the elements of a tuple because tuples are immutable.\n",
        "This means that once a tuple is created, its contents remain fixed, not changed not added, not removed. This immutability ensures the data integrity and allows tuples to be used as keys in dictionaries or elements of sets.\n",
        "\n",
        "16. What is a nested dictionary, and give an example of its use case?\n",
        "- A nested dictionary is a dictionary that contains other dictionaries as its values. It is useful for representing structured or hierarchical data.\n",
        "\n",
        "- For example, storing multiple users' profiles with details like name and age.\n",
        " Users = {\"user1\": {\"name\": \"Ram\"},\n",
        "    \"user2\": {\"name\": \"John\"}}\n",
        "\n",
        "17. Describe the time complexity of accessing elements in a dictionary.\n",
        "- Accessing elements in a dictionary has an average time complexity of O(1). This efficiency is due to the use of hash table for key-based access. In rare worst cases, like hash collisions, access time may degrade to O(n).\n",
        "\n",
        "18. In What situations are lists preferred over dictionaries?\n",
        "- Lists are preferred when the order of elements matters and access by position is needed. They are ideal for storing homogeneous data without key-value associations.\n",
        "\n",
        "19. Why are dictionaries considered unordered, and how does that affect data retrieval?\n",
        "- Dictionaries are considered unordered as they prioritize key-based access over positional order. Even though insertion order is preserved in Python 3.7, data retrieval is determined solely by keys, not sequence.\n",
        "\n",
        "20. Explain the difference between a list and a dictionary in terms of data retrieval.\n",
        "- In a list data is retrieved by accessing elements through their positional indices.\n",
        "\n",
        "- A dictionary retrieves data based on a unique key associated with each value.\n",
        "\n",
        "- This makes lists suitable for ordered collections and dictionaries ideal for key-value mappings."
      ],
      "metadata": {
        "id": "oFB3Q5mJA9b6"
      }
    },
    {
      "cell_type": "code",
      "source": [
        "# 1.  Write a code to create a string with your name and print it.\n",
        "\n",
        "name = \"Priyanka Sharma\"\n",
        "print(name)"
      ],
      "metadata": {
        "id": "dUaSgqOHH7rz",
        "colab": {
          "base_uri": "https://localhost:8080/"
        },
        "outputId": "ea8f5508-a419-4566-9b2e-f52f2274552a"
      },
      "execution_count": null,
      "outputs": [
        {
          "output_type": "stream",
          "name": "stdout",
          "text": [
            "Priyanka Sharma\n"
          ]
        }
      ]
    },
    {
      "cell_type": "code",
      "source": [
        "# 2.  Write a code to find the length of the string \"Hello World\".\n",
        "\n",
        "a = \"Hello World\"\n",
        "len(a)"
      ],
      "metadata": {
        "id": "CLAJah7OH762",
        "colab": {
          "base_uri": "https://localhost:8080/"
        },
        "outputId": "61d28c36-522b-4b6e-edc3-2de8d0f438ec"
      },
      "execution_count": null,
      "outputs": [
        {
          "output_type": "execute_result",
          "data": {
            "text/plain": [
              "11"
            ]
          },
          "metadata": {},
          "execution_count": 13
        }
      ]
    },
    {
      "cell_type": "code",
      "source": [
        "# 3.  Write a code to slice the first 3 characters from the string \"Python Programming\".\n",
        "\n",
        "b = \"Python Programming\"\n",
        "b[ :3]"
      ],
      "metadata": {
        "id": "s_GvYwa7H8HW",
        "colab": {
          "base_uri": "https://localhost:8080/",
          "height": 36
        },
        "outputId": "5308a10f-e350-4571-8dba-1477b48114ff"
      },
      "execution_count": null,
      "outputs": [
        {
          "output_type": "execute_result",
          "data": {
            "text/plain": [
              "'Pyt'"
            ],
            "application/vnd.google.colaboratory.intrinsic+json": {
              "type": "string"
            }
          },
          "metadata": {},
          "execution_count": 18
        }
      ]
    },
    {
      "cell_type": "code",
      "source": [
        "# 4.  Write a code to convert the string \"hello\" to uppercase.\n",
        "\n",
        "s = \"hello\"\n",
        "s.upper()"
      ],
      "metadata": {
        "id": "D339dWs1H8Ns",
        "colab": {
          "base_uri": "https://localhost:8080/",
          "height": 36
        },
        "outputId": "3c4e722c-de06-4f21-de41-ac07e98bf56b"
      },
      "execution_count": null,
      "outputs": [
        {
          "output_type": "execute_result",
          "data": {
            "text/plain": [
              "'HELLO'"
            ],
            "application/vnd.google.colaboratory.intrinsic+json": {
              "type": "string"
            }
          },
          "metadata": {},
          "execution_count": 19
        }
      ]
    },
    {
      "cell_type": "code",
      "source": [
        "# 5. Write a code to replace the word \"apple\" with \"orange\" in the string \"I like apple\".\n",
        "\n",
        "s1 = \"I like apple\"\n",
        "s1\n",
        "s1.replace(\"apple\",\"orange\")"
      ],
      "metadata": {
        "id": "vycRtszxH8UV",
        "colab": {
          "base_uri": "https://localhost:8080/",
          "height": 36
        },
        "outputId": "fded690b-0116-4d25-8120-a4fed5294fc3"
      },
      "execution_count": null,
      "outputs": [
        {
          "output_type": "execute_result",
          "data": {
            "text/plain": [
              "'I like orange'"
            ],
            "application/vnd.google.colaboratory.intrinsic+json": {
              "type": "string"
            }
          },
          "metadata": {},
          "execution_count": 24
        }
      ]
    },
    {
      "cell_type": "code",
      "source": [
        "# 6.  Write a code to create a list with numbers 1 to 5 and print it.\n",
        "\n",
        "lis = [1,2,3,4,5]\n",
        "print(lis)"
      ],
      "metadata": {
        "id": "8HhBpka9H8X3",
        "colab": {
          "base_uri": "https://localhost:8080/"
        },
        "outputId": "e062660c-04d8-489a-b9b3-8ff3d29c5db7"
      },
      "execution_count": null,
      "outputs": [
        {
          "output_type": "stream",
          "name": "stdout",
          "text": [
            "[1, 2, 3, 4, 5]\n"
          ]
        }
      ]
    },
    {
      "cell_type": "code",
      "source": [
        "# 7.  Write a code to append the number 10 to the list [1,2,3,4].\n",
        "\n",
        "num = [1,2,3,4]\n",
        "num.append(10)\n",
        "num\n"
      ],
      "metadata": {
        "id": "ypzLMVzKH8b1",
        "colab": {
          "base_uri": "https://localhost:8080/"
        },
        "outputId": "712e7505-2c7a-45c1-83e0-f277729e75eb"
      },
      "execution_count": null,
      "outputs": [
        {
          "output_type": "execute_result",
          "data": {
            "text/plain": [
              "[1, 2, 3, 4, 10]"
            ]
          },
          "metadata": {},
          "execution_count": 37
        }
      ]
    },
    {
      "cell_type": "code",
      "source": [
        "# 8.  Write a code to remove the number 3 from the list [1,2,3,4,5].\n",
        "\n",
        "lis = [1,2,3,4,5]\n",
        "lis.remove(3)\n",
        "lis"
      ],
      "metadata": {
        "id": "4dCaRJzlH8gy",
        "colab": {
          "base_uri": "https://localhost:8080/"
        },
        "outputId": "568f3206-7e02-4db6-893d-7baf6af71caf"
      },
      "execution_count": null,
      "outputs": [
        {
          "output_type": "execute_result",
          "data": {
            "text/plain": [
              "[1, 2, 4, 5]"
            ]
          },
          "metadata": {},
          "execution_count": 39
        }
      ]
    },
    {
      "cell_type": "code",
      "source": [
        "# 9.  Write a code to access the second element in the list ['a','b','c','d'].\n",
        "\n",
        "lis1 = ['a','b','c','d']\n",
        "lis1[1]  # second element index is 1"
      ],
      "metadata": {
        "id": "NkFMaEmYH8kT",
        "colab": {
          "base_uri": "https://localhost:8080/",
          "height": 36
        },
        "outputId": "ebf99c8d-5204-4f11-e925-1fbdc348edce"
      },
      "execution_count": null,
      "outputs": [
        {
          "output_type": "execute_result",
          "data": {
            "text/plain": [
              "'b'"
            ],
            "application/vnd.google.colaboratory.intrinsic+json": {
              "type": "string"
            }
          },
          "metadata": {},
          "execution_count": 41
        }
      ]
    },
    {
      "cell_type": "code",
      "source": [
        "# 10.  Write a code to reverse the list [10,20,30,40,50].\n",
        "\n",
        "lis = [10,20,30,40,50]\n",
        "lis[::-1]"
      ],
      "metadata": {
        "id": "yQOM1137H8vl",
        "colab": {
          "base_uri": "https://localhost:8080/"
        },
        "outputId": "e7b9f235-9165-49a3-c615-8ef7bdc242d3"
      },
      "execution_count": null,
      "outputs": [
        {
          "output_type": "execute_result",
          "data": {
            "text/plain": [
              "[50, 40, 30, 20, 10]"
            ]
          },
          "metadata": {},
          "execution_count": 42
        }
      ]
    },
    {
      "cell_type": "code",
      "source": [
        "# 11.  Write a code to create a tuple with the elements 100,200,300 and print it.\n",
        "t = (100,200,300)\n",
        "print(t)"
      ],
      "metadata": {
        "id": "vk1h9QIwKykC",
        "colab": {
          "base_uri": "https://localhost:8080/"
        },
        "outputId": "2ce40a1c-992b-48d1-c670-4569ffdb886a"
      },
      "execution_count": null,
      "outputs": [
        {
          "output_type": "stream",
          "name": "stdout",
          "text": [
            "(100, 200, 300)\n"
          ]
        }
      ]
    },
    {
      "cell_type": "code",
      "source": [
        "# 12.  Write a code to access the second-to-last element of the tuple ('red','green','blue','yellow').\n",
        "\n",
        "col = ('red','green','blue','yellow')\n",
        "col[-2]"
      ],
      "metadata": {
        "id": "uV3DAwi4Kywx",
        "colab": {
          "base_uri": "https://localhost:8080/",
          "height": 36
        },
        "outputId": "44a24222-4981-4a33-f5cd-fe1a09418310"
      },
      "execution_count": null,
      "outputs": [
        {
          "output_type": "execute_result",
          "data": {
            "text/plain": [
              "'blue'"
            ],
            "application/vnd.google.colaboratory.intrinsic+json": {
              "type": "string"
            }
          },
          "metadata": {},
          "execution_count": 47
        }
      ]
    },
    {
      "cell_type": "code",
      "source": [
        "# 13.  Write a code to find the minimum number in the tuple (10,20,5,15).\n",
        "\n",
        "t = (10,20,5,15)\n",
        "min(t)"
      ],
      "metadata": {
        "id": "s8LLw8WGKy7K",
        "colab": {
          "base_uri": "https://localhost:8080/"
        },
        "outputId": "8c6e5a83-9c7b-4187-8594-a412a94df15b"
      },
      "execution_count": null,
      "outputs": [
        {
          "output_type": "execute_result",
          "data": {
            "text/plain": [
              "5"
            ]
          },
          "metadata": {},
          "execution_count": 48
        }
      ]
    },
    {
      "cell_type": "code",
      "source": [
        "# 14.  Write a code to find the index of the element \"cat\" in the tuple ('dog','cat','rabbit').\n",
        "\n",
        "ani = ('dog','cat','rabbit')\n",
        "ani.index('cat')"
      ],
      "metadata": {
        "id": "EXnr5DKoKzE0",
        "colab": {
          "base_uri": "https://localhost:8080/"
        },
        "outputId": "33cca98e-139b-499f-9dbf-1d590f75a14d"
      },
      "execution_count": null,
      "outputs": [
        {
          "output_type": "execute_result",
          "data": {
            "text/plain": [
              "1"
            ]
          },
          "metadata": {},
          "execution_count": 49
        }
      ]
    },
    {
      "cell_type": "code",
      "source": [
        "# 15.  Write a code to create a tuple containing three different fruits and check if \"kiwi\" is in it.\n",
        "\n",
        "a = (\"apple\",\"banana\",\"orange\")\n",
        "# check kiwi is in tuple:\n",
        "if \"kiwi\" in a:\n",
        "  print(\"kiwi is in tuple\")\n",
        "else:\n",
        "    print(\"kiwi is not in tuple\")\n",
        "\n"
      ],
      "metadata": {
        "id": "TswsThiPKzTY",
        "colab": {
          "base_uri": "https://localhost:8080/"
        },
        "outputId": "aa5c9624-c133-4991-97c4-05239ec71f05"
      },
      "execution_count": null,
      "outputs": [
        {
          "output_type": "stream",
          "name": "stdout",
          "text": [
            "kiwi is not in tuple\n"
          ]
        }
      ]
    },
    {
      "cell_type": "code",
      "source": [
        "# 16. Write a code to create a set with the elements 'a' ,'b' ,'c' and print it.\n",
        "\n",
        "s = {'a', 'b' ,'c'}\n",
        "print(s)\n",
        "\n"
      ],
      "metadata": {
        "id": "k15c5Y2tMngU",
        "colab": {
          "base_uri": "https://localhost:8080/"
        },
        "outputId": "19cbf1e7-7b65-4091-a177-010d1210fa6c"
      },
      "execution_count": null,
      "outputs": [
        {
          "output_type": "stream",
          "name": "stdout",
          "text": [
            "{'b', 'c', 'a'}\n"
          ]
        }
      ]
    },
    {
      "cell_type": "code",
      "source": [
        "# 17. Write a code to clear all elements from the set {1, 2, 3, 4, 5}.\n",
        "\n",
        "s1 = {1, 2, 3, 4, 5}\n",
        "s1.clear()\n",
        "s1"
      ],
      "metadata": {
        "id": "WDWiKtC3OJFR",
        "colab": {
          "base_uri": "https://localhost:8080/"
        },
        "outputId": "df5de95e-9312-48ac-a24c-09e2a549d592"
      },
      "execution_count": null,
      "outputs": [
        {
          "output_type": "execute_result",
          "data": {
            "text/plain": [
              "set()"
            ]
          },
          "metadata": {},
          "execution_count": 13
        }
      ]
    },
    {
      "cell_type": "code",
      "source": [
        "# 18. Write a code to remove the element 4 from the set {1, 2, 3, 4}.\n",
        "\n",
        "s2 = {1, 2, 3, 4}\n",
        "s2.remove(4)\n",
        "s2"
      ],
      "metadata": {
        "id": "bDrcG6W_Mnm6",
        "colab": {
          "base_uri": "https://localhost:8080/"
        },
        "outputId": "449309aa-aa00-4e8d-ac89-7f2f2a9bce39"
      },
      "execution_count": null,
      "outputs": [
        {
          "output_type": "execute_result",
          "data": {
            "text/plain": [
              "{1, 2, 3}"
            ]
          },
          "metadata": {},
          "execution_count": 17
        }
      ]
    },
    {
      "cell_type": "code",
      "source": [
        "# 19. Write a code to find the union of two sets {1, 2, 3} and {3, 4, 5}.\n",
        "s1 = {1, 2, 3}\n",
        "s2 = {3, 4, 5}\n",
        "union = s1|s2\n",
        "union"
      ],
      "metadata": {
        "id": "lVab_po7Mnph",
        "colab": {
          "base_uri": "https://localhost:8080/"
        },
        "outputId": "5b9199c5-4d19-4379-df03-6713cbce5d27"
      },
      "execution_count": null,
      "outputs": [
        {
          "output_type": "execute_result",
          "data": {
            "text/plain": [
              "{1, 2, 3, 4, 5}"
            ]
          },
          "metadata": {},
          "execution_count": 21
        }
      ]
    },
    {
      "cell_type": "code",
      "source": [
        "# 20. Write a code to find the intersection of two sets {1, 2, 3} and {2, 3, 4}.\n",
        "s1 = {1, 2, 3}\n",
        "s2 = {2, 3, 4}\n",
        "intersection = s1&s2\n",
        "intersection"
      ],
      "metadata": {
        "id": "8_ch0RZAMnsw",
        "colab": {
          "base_uri": "https://localhost:8080/"
        },
        "outputId": "e6e5f87e-e1e5-4d98-d233-237453ada466"
      },
      "execution_count": null,
      "outputs": [
        {
          "output_type": "execute_result",
          "data": {
            "text/plain": [
              "{2, 3}"
            ]
          },
          "metadata": {},
          "execution_count": 22
        }
      ]
    },
    {
      "cell_type": "code",
      "source": [
        "# 21. Write a code to create a dictionary with keys \"name\", \"age\" , and \"city\", and print it.\n",
        "\n",
        "d = {\"name\": \"Divya\", \"age\": 14, \"city\": \"Delhi\"}\n",
        "print(d)"
      ],
      "metadata": {
        "id": "MLWERRhuMnzw",
        "colab": {
          "base_uri": "https://localhost:8080/"
        },
        "outputId": "6953424e-b012-4fa3-8e51-9fa6c27c3a19"
      },
      "execution_count": null,
      "outputs": [
        {
          "output_type": "stream",
          "name": "stdout",
          "text": [
            "{'name': 'Divya', 'age': 14, 'city': 'Delhi'}\n"
          ]
        }
      ]
    },
    {
      "cell_type": "code",
      "source": [
        "# 22. Write a code to add a new key-value pair \"country\": \"USA\" to the dictionary {'name': 'John' , 'age': 25}.\n",
        "\n",
        "d1 = {\"name\": \"John\" , \"age\": 25 }\n",
        "d1[\"country\"] = \"USA\" # Add new key-value pair\n",
        "print(d1)\n",
        "\n"
      ],
      "metadata": {
        "id": "Q87hHk7uMn_H",
        "colab": {
          "base_uri": "https://localhost:8080/"
        },
        "outputId": "b3e21d60-6e94-4031-e6f6-8ae9175c80b3"
      },
      "execution_count": null,
      "outputs": [
        {
          "output_type": "stream",
          "name": "stdout",
          "text": [
            "{'name': 'John', 'age': 25, 'country': 'USA'}\n"
          ]
        }
      ]
    },
    {
      "cell_type": "code",
      "source": [
        "# 23. Write a code to access the value associated with the key \"name\" in the dictionay {'name': 'Alice' , 'age': 30}.\n",
        "\n",
        "d = {\"name\": \"Alice\" , \"age\": 30}\n",
        "d[\"name\"]"
      ],
      "metadata": {
        "id": "Y9J5jEO8MoB1",
        "colab": {
          "base_uri": "https://localhost:8080/",
          "height": 36
        },
        "outputId": "fc129255-7af7-4a80-fa71-6662f6dd015c"
      },
      "execution_count": null,
      "outputs": [
        {
          "output_type": "execute_result",
          "data": {
            "text/plain": [
              "'Alice'"
            ],
            "application/vnd.google.colaboratory.intrinsic+json": {
              "type": "string"
            }
          },
          "metadata": {},
          "execution_count": 33
        }
      ]
    },
    {
      "cell_type": "code",
      "source": [
        "# 24. # Write a code to remove the key \"age\" from the dictionary {'name': Bob , 'age': 22, 'city': 'New York'}.\n",
        "\n",
        "d1 = {\"name\": \"Bob\" , \"age\": 22 , \"city\": \"New York\"}\n",
        "d1.pop(\"age\")\n",
        "d1"
      ],
      "metadata": {
        "id": "6bSSbYHyMoE_",
        "colab": {
          "base_uri": "https://localhost:8080/"
        },
        "outputId": "78c8580b-fc3b-4108-e0cb-81a820c9aff7"
      },
      "execution_count": null,
      "outputs": [
        {
          "output_type": "execute_result",
          "data": {
            "text/plain": [
              "{'name': 'Bob', 'city': 'New York'}"
            ]
          },
          "metadata": {},
          "execution_count": 34
        }
      ]
    },
    {
      "cell_type": "code",
      "source": [
        "# 25. Write a code to check if the key \"city\" exists in the dictionary {'name': 'Alice' , 'city': 'Paris'}.\n",
        "\n",
        "d = {\"name\": \"Alice\" , \"city\": \"Paris\"}\n",
        "if \"city\" in d:\n",
        "  print(\"city is in dictionary\")\n",
        "else:\n",
        "  print(\"city is not in dictionary\")"
      ],
      "metadata": {
        "id": "jVsDkCK1MoVc",
        "colab": {
          "base_uri": "https://localhost:8080/"
        },
        "outputId": "d2e53f02-6d6b-4156-e2be-0f2bd7c646cb"
      },
      "execution_count": null,
      "outputs": [
        {
          "output_type": "stream",
          "name": "stdout",
          "text": [
            "city is in dictionary\n"
          ]
        }
      ]
    },
    {
      "cell_type": "code",
      "source": [
        "# 26. Write a code to create a list, a tuple, and a dictionary, and print them all.\n",
        "\n",
        "lis = [1, 2, \"data\", True]\n",
        "tup = (1, 2, 4.5, 1, 2, \"skill\")\n",
        "dic = {\"name\": \"John\" , \"city\": \"Mumbai\"}\n",
        "print(lis)\n",
        "print(tup)\n",
        "print(dic)\n"
      ],
      "metadata": {
        "id": "DPKOoATkMocS",
        "colab": {
          "base_uri": "https://localhost:8080/"
        },
        "outputId": "423271df-2c11-4bef-effa-2c9f87044cee"
      },
      "execution_count": null,
      "outputs": [
        {
          "output_type": "stream",
          "name": "stdout",
          "text": [
            "[1, 2, 'data', True]\n",
            "(1, 2, 4.5, 1, 2, 'skill')\n",
            "{'name': 'John', 'city': 'Mumbai'}\n"
          ]
        }
      ]
    },
    {
      "cell_type": "code",
      "source": [
        "# 27. Write a code to create a list of 5 random numbers between 1 and 100, sort it in ascending order, and print the result.(replaced)\n",
        "\n",
        "import random\n",
        "\n",
        "\n",
        "nums = sorted(random.randint(1,100) for i in range(5))\n",
        "print(nums)\n",
        "\n",
        "\n",
        "\n"
      ],
      "metadata": {
        "id": "VxKBruBnQXag",
        "colab": {
          "base_uri": "https://localhost:8080/"
        },
        "outputId": "baa11e69-d1a4-4059-90df-cbae838f14f6"
      },
      "execution_count": null,
      "outputs": [
        {
          "output_type": "stream",
          "name": "stdout",
          "text": [
            "[4, 28, 38, 52, 87]\n"
          ]
        }
      ]
    },
    {
      "cell_type": "code",
      "source": [
        "# 28. Write a code to create a list with strings and print the element at the third index.\n",
        "\n",
        "lis = [\"Apple\" , \"Banana\" , \"Orange\" , \"Grapes\" , \"Mango\"]\n",
        "lis[3]"
      ],
      "metadata": {
        "id": "XXslPIu5QvYw",
        "colab": {
          "base_uri": "https://localhost:8080/",
          "height": 36
        },
        "outputId": "a1950428-5563-451d-db83-492cd33dfaed"
      },
      "execution_count": null,
      "outputs": [
        {
          "output_type": "execute_result",
          "data": {
            "text/plain": [
              "'Grapes'"
            ],
            "application/vnd.google.colaboratory.intrinsic+json": {
              "type": "string"
            }
          },
          "metadata": {},
          "execution_count": 39
        }
      ]
    },
    {
      "cell_type": "code",
      "source": [
        "# 29. Write a code to combine two dictionaries into one and print the result.\n",
        "\n",
        "d1 = { \"a\": 1 , \"b\": 2}\n",
        "d2 = {\"c\": 3 , \"d\": 4}\n",
        "\n",
        "\n",
        "d3 = d1|d2\n",
        "d3\n"
      ],
      "metadata": {
        "id": "M_HhgsmxQvcM",
        "colab": {
          "base_uri": "https://localhost:8080/"
        },
        "outputId": "a9f30c84-0ddc-4250-cda0-8d2761b4523d"
      },
      "execution_count": null,
      "outputs": [
        {
          "output_type": "execute_result",
          "data": {
            "text/plain": [
              "{'a': 1, 'b': 2, 'c': 3, 'd': 4}"
            ]
          },
          "metadata": {},
          "execution_count": 52
        }
      ]
    },
    {
      "cell_type": "code",
      "source": [
        "# 30. Write a code to convert a list of strings into a set.\n",
        "\n",
        "lis = [\"potato\" , \"Tomato\" , \"Onion\" , \"Carrot\"]\n",
        "s1 = set(lis)\n",
        "s1\n"
      ],
      "metadata": {
        "id": "DctRgzjpRMKH",
        "colab": {
          "base_uri": "https://localhost:8080/"
        },
        "outputId": "09c0f43d-6b05-4d2d-f29b-82391f39382d"
      },
      "execution_count": null,
      "outputs": [
        {
          "output_type": "execute_result",
          "data": {
            "text/plain": [
              "{'Carrot', 'Onion', 'Tomato', 'potato'}"
            ]
          },
          "metadata": {},
          "execution_count": 55
        }
      ]
    }
  ]
}